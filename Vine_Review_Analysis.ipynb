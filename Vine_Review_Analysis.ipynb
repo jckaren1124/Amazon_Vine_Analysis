{
  "nbformat": 4,
  "nbformat_minor": 0,
  "metadata": {
    "colab": {
      "name": "Vine_Review_Analysis",
      "provenance": [],
      "authorship_tag": "ABX9TyO7vebfx7w4Pzvh5oUzfM1J",
      "include_colab_link": true
    },
    "kernelspec": {
      "name": "python3",
      "display_name": "Python 3"
    },
    "language_info": {
      "name": "python"
    }
  },
  "cells": [
    {
      "cell_type": "markdown",
      "metadata": {
        "id": "view-in-github",
        "colab_type": "text"
      },
      "source": [
        "<a href=\"https://colab.research.google.com/github/jckaren1124/Amazon_Vine_Analysis/blob/main/Vine_Review_Analysis.ipynb\" target=\"_parent\"><img src=\"https://colab.research.google.com/assets/colab-badge.svg\" alt=\"Open In Colab\"/></a>"
      ]
    },
    {
      "cell_type": "code",
      "execution_count": 1,
      "metadata": {
        "colab": {
          "base_uri": "https://localhost:8080/"
        },
        "id": "N-KN47HmteLj",
        "outputId": "d35aeedd-c73b-40f9-c49a-8245fc4f0090"
      },
      "outputs": [
        {
          "output_type": "stream",
          "name": "stdout",
          "text": [
            "Ign:1 https://developer.download.nvidia.com/compute/cuda/repos/ubuntu1804/x86_64  InRelease\n",
            "Get:2 https://cloud.r-project.org/bin/linux/ubuntu bionic-cran40/ InRelease [3,626 B]\n",
            "Get:3 http://ppa.launchpad.net/c2d4u.team/c2d4u4.0+/ubuntu bionic InRelease [15.9 kB]\n",
            "Get:4 http://security.ubuntu.com/ubuntu bionic-security InRelease [88.7 kB]\n",
            "Ign:5 https://developer.download.nvidia.com/compute/machine-learning/repos/ubuntu1804/x86_64  InRelease\n",
            "Hit:6 http://archive.ubuntu.com/ubuntu bionic InRelease\n",
            "Hit:7 https://developer.download.nvidia.com/compute/cuda/repos/ubuntu1804/x86_64  Release\n",
            "Hit:8 https://developer.download.nvidia.com/compute/machine-learning/repos/ubuntu1804/x86_64  Release\n",
            "Get:9 http://archive.ubuntu.com/ubuntu bionic-updates InRelease [88.7 kB]\n",
            "Hit:10 http://ppa.launchpad.net/cran/libgit2/ubuntu bionic InRelease\n",
            "Hit:11 http://archive.ubuntu.com/ubuntu bionic-backports InRelease\n",
            "Get:12 http://ppa.launchpad.net/deadsnakes/ppa/ubuntu bionic InRelease [15.9 kB]\n",
            "Get:13 http://ppa.launchpad.net/graphics-drivers/ppa/ubuntu bionic InRelease [21.3 kB]\n",
            "Get:16 http://ppa.launchpad.net/c2d4u.team/c2d4u4.0+/ubuntu bionic/main Sources [1,822 kB]\n",
            "Get:17 http://security.ubuntu.com/ubuntu bionic-security/restricted amd64 Packages [716 kB]\n",
            "Get:18 http://security.ubuntu.com/ubuntu bionic-security/universe amd64 Packages [1,459 kB]\n",
            "Get:19 http://archive.ubuntu.com/ubuntu bionic-updates/restricted amd64 Packages [749 kB]\n",
            "Get:20 http://security.ubuntu.com/ubuntu bionic-security/multiverse amd64 Packages [26.8 kB]\n",
            "Get:21 http://security.ubuntu.com/ubuntu bionic-security/main amd64 Packages [2,489 kB]\n",
            "Get:22 http://ppa.launchpad.net/c2d4u.team/c2d4u4.0+/ubuntu bionic/main amd64 Packages [934 kB]\n",
            "Get:23 http://archive.ubuntu.com/ubuntu bionic-updates/multiverse amd64 Packages [34.5 kB]\n",
            "Get:24 http://archive.ubuntu.com/ubuntu bionic-updates/main amd64 Packages [2,929 kB]\n",
            "Get:25 http://archive.ubuntu.com/ubuntu bionic-updates/universe amd64 Packages [2,238 kB]\n",
            "Get:26 http://ppa.launchpad.net/deadsnakes/ppa/ubuntu bionic/main amd64 Packages [45.3 kB]\n",
            "Get:27 http://ppa.launchpad.net/graphics-drivers/ppa/ubuntu bionic/main amd64 Packages [44.7 kB]\n",
            "Fetched 13.7 MB in 4s (3,622 kB/s)\n",
            "Reading package lists... Done\n"
          ]
        }
      ],
      "source": [
        "import os\n",
        "# Find the latest version of spark 3.0 from http://www.apache.org/dist/spark/ and enter as the spark version\n",
        "# For example:\n",
        "# spark_version = 'spark-3.0.3'\n",
        "spark_version = 'spark-3.0.3'\n",
        "os.environ['SPARK_VERSION']=spark_version\n",
        "\n",
        "# Install Spark and Java\n",
        "!apt-get update\n",
        "!apt-get install openjdk-11-jdk-headless -qq > /dev/null\n",
        "!wget -q http://www.apache.org/dist/spark/$SPARK_VERSION/$SPARK_VERSION-bin-hadoop2.7.tgz\n",
        "!tar xf $SPARK_VERSION-bin-hadoop2.7.tgz\n",
        "!pip install -q findspark\n",
        "\n",
        "# Set Environment Variables\n",
        "import os\n",
        "os.environ[\"JAVA_HOME\"] = \"/usr/lib/jvm/java-11-openjdk-amd64\"\n",
        "os.environ[\"SPARK_HOME\"] = f\"/content/{spark_version}-bin-hadoop2.7\"\n",
        "\n",
        "# Start a SparkSession\n",
        "import findspark\n",
        "findspark.init()"
      ]
    },
    {
      "cell_type": "code",
      "source": [
        "# Load Amazon data into Spark DataFrame\n",
        "from pyspark.sql import SparkSession\n",
        "spark = SparkSession.builder.appName(\"M16-Amazon-Challenge\").config(\"spark.driver.extraClassPath\",\"/content/postgresql-42.2.16.jar\").getOrCreate()"
      ],
      "metadata": {
        "id": "kPBLc34qttBE"
      },
      "execution_count": 2,
      "outputs": []
    },
    {
      "cell_type": "code",
      "source": [
        "from pyspark.sql.functions import to_date\n",
        "# Read in the Review dataset as a DataFrame\n",
        "from pyspark import SparkFiles\n",
        "url = \"https://s3.amazonaws.com/amazon-reviews-pds/tsv/amazon_reviews_us_Grocery_v1_00.tsv.gz\"\n",
        "spark.sparkContext.addFile(url)\n",
        "\n",
        "#convert helpful votes and total_votes to integer data type\n",
        "# Import struct fields that we can use\n",
        "from pyspark.sql.types import StructField, StringType, IntegerType, StructType\n",
        "# create the list of struct fields\n",
        "schema = [StructField(\"helpful_votes\", IntegerType(), True), StructField(\"total_votes\", IntegerType(), True),]\n",
        "# Pass in our fields\n",
        "final = StructType(fields=schema)\n",
        "dataframe = spark.read.csv(SparkFiles.get(\"amazon_reviews_us_Grocery_v1_00.tsv.gz\"), schema=final, sep=\"\\t\", header=True)\n",
        "dataframe.printSchema()"
      ],
      "metadata": {
        "colab": {
          "base_uri": "https://localhost:8080/"
        },
        "id": "KE0yb9XvttHC",
        "outputId": "625e0222-7117-48e9-9618-355db2ef365e"
      },
      "execution_count": 14,
      "outputs": [
        {
          "output_type": "stream",
          "name": "stdout",
          "text": [
            "root\n",
            " |-- helpful_votes: integer (nullable = true)\n",
            " |-- total_votes: integer (nullable = true)\n",
            "\n"
          ]
        }
      ]
    },
    {
      "cell_type": "code",
      "source": [
        "df.show()"
      ],
      "metadata": {
        "colab": {
          "base_uri": "https://localhost:8080/"
        },
        "id": "HjrkRBFMqEJW",
        "outputId": "9cb01adf-e8f6-45bc-f0b4-cf4fa9c37c82"
      },
      "execution_count": 15,
      "outputs": [
        {
          "output_type": "stream",
          "name": "stdout",
          "text": [
            "+-----------+-----------+--------------+----------+--------------+--------------------+----------------+-----------+-------------+-----------+----+-----------------+--------------------+--------------------+-----------+\n",
            "|marketplace|customer_id|     review_id|product_id|product_parent|       product_title|product_category|star_rating|helpful_votes|total_votes|vine|verified_purchase|     review_headline|         review_body|review_date|\n",
            "+-----------+-----------+--------------+----------+--------------+--------------------+----------------+-----------+-------------+-----------+----+-----------------+--------------------+--------------------+-----------+\n",
            "|         US|   42521656|R26MV8D0KG6QI6|B000SAQCWC|     159713740|The Cravings Plac...|         Grocery|          5|            0|          0|   N|                Y|Using these for y...|As a family aller...| 2015-08-31|\n",
            "|         US|   12049833|R1OF8GP57AQ1A0|B00509LVIQ|     138680402|Mauna Loa Macadam...|         Grocery|          5|            0|          0|   N|                Y|           Wonderful|My favorite nut. ...| 2015-08-31|\n",
            "|         US|     107642|R3VDC1QB6MC4ZZ|B00KHXESLC|     252021703|Organic Matcha Gr...|         Grocery|          5|            0|          0|   N|                N|          Five Stars|This green tea ta...| 2015-08-31|\n",
            "|         US|    6042304|R12FA3DCF8F9ER|B000F8JIIC|     752728342|15oz Raspberry Ly...|         Grocery|          5|            0|          0|   N|                Y|          Five Stars|I love Melissa's ...| 2015-08-31|\n",
            "|         US|   18123821| RTWHVNV6X4CNJ|B004ZWR9RQ|     552138758|Stride Spark Kine...|         Grocery|          5|            0|          0|   N|                Y|          Five Stars|                good| 2015-08-31|\n",
            "|         US|   23649464| RIG9AWFOGRDVO|B00AL6QBZ6|     681475449|Herr's Popcorn Ho...|         Grocery|          2|            1|          1|   N|                Y|           Not Happy|The popcorn was s...| 2015-08-31|\n",
            "|         US|   32778285|R1S1XSG4ZCHDGS|B00BCNSTRA|     578681693|Larabar uber, 1.4...|         Grocery|          5|            1|          1|   N|                Y|          Five Stars|Love these bars, ...| 2015-08-31|\n",
            "|         US|   46612941| RB15NBVY5ELVW|B0089MM2BG|     350968436|Shirakiku Soba No...|         Grocery|          5|            2|          2|   N|                Y|          Five Stars|Love the taste bu...| 2015-08-31|\n",
            "|         US|   31525399| R56358YM1ZJ7I|B00Y1C9770|     729982780|Jif Chocolate Nut...|         Grocery|          5|            0|          0|   N|                N|      Great tasting!|I'm a member of t...| 2015-08-31|\n",
            "|         US|   19624355|R1ODXB3C9UP3NL|B00J074W94|       2499702|Orgain Organic Pl...|         Grocery|          1|            1|          3|   N|                N|Disgusting now an...|Used to be a dece...| 2015-08-31|\n",
            "|         US|   31910375|R155ZMVLD5C9BP|B0001VKKOO|     189938205|Bragg - All Natur...|         Grocery|          4|            3|          4|   N|                Y|If you like soy s...|I cannot tell the...| 2015-08-31|\n",
            "|         US|   12816533|R2IXW43PUNYM0G|B007TGH4CK|     398128262|Wholesome Sweeten...|         Grocery|          4|            1|          1|   N|                Y|          Four Stars|Good flavor and s...| 2015-08-31|\n",
            "|         US|   23208852|R3LYEG1QCK2BG0|B002HMN6SC|      18057786|Kadoya Pure Sesam...|         Grocery|          5|            0|          0|   N|                Y|          Five Stars|Great to use in r...| 2015-08-31|\n",
            "|         US|   17348415|R20LREICPM3YH0|B004NRHAZO|     595020880|Nishiki Premium B...|         Grocery|          5|            0|          0|   N|                Y|          Five Stars|It's rice. Have e...| 2015-08-31|\n",
            "|         US|   46763945| RHA5COCZDVB13|B00V7LJIG8|     173088090|Everly Passion Fr...|         Grocery|          5|            0|          0|   N|                Y|          Five Stars|Very good tasting...| 2015-08-31|\n",
            "|         US|     961747| RT9BGRQANMANE|B0000E2YFI|     120269621|Charms Blue Razzb...|         Grocery|          5|            0|          0|   N|                Y|           Excellent|They were perfect...| 2015-08-31|\n",
            "|         US|   16888081| ROD1TU5JCS7JQ|B00VK5SQOQ|     204992966|Food Should Taste...|         Grocery|          5|            0|          0|   N|                N|              YUMMY!|Wow, these are so...| 2015-08-31|\n",
            "|         US|   22765168|R3T6TTD2IN0EFZ|B00XDXMLL2|     971154239|Skippy Creamy Pea...|         Grocery|          1|            4|          4|   N|                N|1 Out Of 5 Of My ...|I bought this fro...| 2015-08-31|\n",
            "|         US|   36328996|R1OCUGZ444NKV3|B00MN4KX3A|     787182505|Celestial Seasoni...|         Grocery|          5|            5|          5|   N|                Y|delicious tea and...|I love this tea, ...| 2015-08-31|\n",
            "|         US|   27092724| RCQQGWTC4J4TZ|B004NTCE1M|     653570135|Nutiva Organic Vi...|         Grocery|          4|            0|          0|   N|                Y|    Best coconut oil|I have used servo...| 2015-08-31|\n",
            "+-----------+-----------+--------------+----------+--------------+--------------------+----------------+-----------+-------------+-----------+----+-----------------+--------------------+--------------------+-----------+\n",
            "only showing top 20 rows\n",
            "\n"
          ]
        }
      ]
    },
    {
      "cell_type": "code",
      "source": [
        "# Create the vine_table. DataFrame\n",
        "vine_df = df.select([\"review_id\", \"star_rating\", \"helpful_votes\", \"total_votes\", \"vine\", \"verified_purchase\"])\n",
        "vine_df.show()"
      ],
      "metadata": {
        "colab": {
          "base_uri": "https://localhost:8080/"
        },
        "id": "mxhE2aJ5mYkw",
        "outputId": "c93fb373-e60f-444a-cab6-53b818dd6801"
      },
      "execution_count": 16,
      "outputs": [
        {
          "output_type": "stream",
          "name": "stdout",
          "text": [
            "+--------------+-----------+-------------+-----------+----+-----------------+\n",
            "|     review_id|star_rating|helpful_votes|total_votes|vine|verified_purchase|\n",
            "+--------------+-----------+-------------+-----------+----+-----------------+\n",
            "|R26MV8D0KG6QI6|          5|            0|          0|   N|                Y|\n",
            "|R1OF8GP57AQ1A0|          5|            0|          0|   N|                Y|\n",
            "|R3VDC1QB6MC4ZZ|          5|            0|          0|   N|                N|\n",
            "|R12FA3DCF8F9ER|          5|            0|          0|   N|                Y|\n",
            "| RTWHVNV6X4CNJ|          5|            0|          0|   N|                Y|\n",
            "| RIG9AWFOGRDVO|          2|            1|          1|   N|                Y|\n",
            "|R1S1XSG4ZCHDGS|          5|            1|          1|   N|                Y|\n",
            "| RB15NBVY5ELVW|          5|            2|          2|   N|                Y|\n",
            "| R56358YM1ZJ7I|          5|            0|          0|   N|                N|\n",
            "|R1ODXB3C9UP3NL|          1|            1|          3|   N|                N|\n",
            "|R155ZMVLD5C9BP|          4|            3|          4|   N|                Y|\n",
            "|R2IXW43PUNYM0G|          4|            1|          1|   N|                Y|\n",
            "|R3LYEG1QCK2BG0|          5|            0|          0|   N|                Y|\n",
            "|R20LREICPM3YH0|          5|            0|          0|   N|                Y|\n",
            "| RHA5COCZDVB13|          5|            0|          0|   N|                Y|\n",
            "| RT9BGRQANMANE|          5|            0|          0|   N|                Y|\n",
            "| ROD1TU5JCS7JQ|          5|            0|          0|   N|                N|\n",
            "|R3T6TTD2IN0EFZ|          1|            4|          4|   N|                N|\n",
            "|R1OCUGZ444NKV3|          5|            5|          5|   N|                Y|\n",
            "| RCQQGWTC4J4TZ|          4|            0|          0|   N|                Y|\n",
            "+--------------+-----------+-------------+-----------+----+-----------------+\n",
            "only showing top 20 rows\n",
            "\n"
          ]
        }
      ]
    },
    {
      "cell_type": "code",
      "source": [
        "# 1. Filter DataFrame with total_votes greater than or equal to 20\n",
        "high_vote_count_df = vine_df.filter( (df[\"total_votes\"]>20) | (df[\"total_votes\"] == 20) )\n",
        "high_vote_count_df.show()"
      ],
      "metadata": {
        "colab": {
          "base_uri": "https://localhost:8080/"
        },
        "id": "hx8MEo5tmYoV",
        "outputId": "812f4e8b-47dc-489c-e169-5530a1ace5f1"
      },
      "execution_count": 24,
      "outputs": [
        {
          "output_type": "stream",
          "name": "stdout",
          "text": [
            "+--------------+-----------+-------------+-----------+----+-----------------+\n",
            "|     review_id|star_rating|helpful_votes|total_votes|vine|verified_purchase|\n",
            "+--------------+-----------+-------------+-----------+----+-----------------+\n",
            "|R1OAZUG90XPU2U|          5|          250|        274|   N|                Y|\n",
            "|R23VPTUJ8I8NR5|          1|           28|         30|   N|                Y|\n",
            "|R33VIWRD2X5IA9|          1|            0|         20|   N|                Y|\n",
            "| R6SRJFJ5YH4UM|          5|           23|         26|   N|                Y|\n",
            "|R3DOS07BIMP4DJ|          2|           32|         42|   N|                N|\n",
            "|R26UFXLLQ2N0CR|          1|            0|         20|   N|                Y|\n",
            "|R30PGWX4HN1CFG|          1|           85|         95|   N|                Y|\n",
            "|R2XASGYIENUHQO|          5|           28|         32|   N|                Y|\n",
            "|R34UQPQCTSKQK9|          5|           23|         26|   N|                Y|\n",
            "|R2M6WNM2OZZHKS|          1|           20|         22|   N|                N|\n",
            "| RO6JNMUJDE1LP|          5|           37|         50|   N|                N|\n",
            "|R1WNL4OIMSKDBR|          5|           35|         36|   N|                Y|\n",
            "| RDGWZ3U8LQZE6|          2|           48|         54|   N|                Y|\n",
            "|R3HFIKVOUDHT4I|          3|           64|         67|   N|                N|\n",
            "| R22M0N2OZSICN|          5|           21|         23|   N|                Y|\n",
            "|R1E43139TRHB5T|          5|           22|         22|   N|                Y|\n",
            "|R1L40ST6C2UJHK|          5|          262|        272|   N|                Y|\n",
            "|R1XISUX6DDSXKZ|          5|           37|         41|   N|                Y|\n",
            "|R35MWO8UIXOA37|          1|           20|         22|   N|                Y|\n",
            "|R1RZ0G02ASP7SF|          2|           35|         43|   N|                Y|\n",
            "+--------------+-----------+-------------+-----------+----+-----------------+\n",
            "only showing top 20 rows\n",
            "\n"
          ]
        }
      ]
    },
    {
      "cell_type": "code",
      "source": [
        "# 2. Filter DataFrame where helpful_votes divided by total_votes is greater than 50%\n",
        "ratings_percentage_df = high_vote_count_df.withColumn(\"ratings_percentage\", high_vote_count_df[\"helpful_votes\"]/ high_vote_count_df[\"total_votes\"])\n",
        "high_ratings_percentage_df = ratings_percentage_df.filter(\"ratings_percentage > 0.5\")\n",
        "high_ratings_percentage_df.show()"
      ],
      "metadata": {
        "colab": {
          "base_uri": "https://localhost:8080/"
        },
        "id": "_QYn0DIFmYr-",
        "outputId": "ad0bf30e-d048-455c-9449-ce5b2ee0556d"
      },
      "execution_count": 26,
      "outputs": [
        {
          "output_type": "stream",
          "name": "stdout",
          "text": [
            "+--------------+-----------+-------------+-----------+----+-----------------+------------------+\n",
            "|     review_id|star_rating|helpful_votes|total_votes|vine|verified_purchase|ratings_percentage|\n",
            "+--------------+-----------+-------------+-----------+----+-----------------+------------------+\n",
            "|R1OAZUG90XPU2U|          5|          250|        274|   N|                Y|0.9124087591240876|\n",
            "|R23VPTUJ8I8NR5|          1|           28|         30|   N|                Y|0.9333333333333333|\n",
            "| R6SRJFJ5YH4UM|          5|           23|         26|   N|                Y|0.8846153846153846|\n",
            "|R3DOS07BIMP4DJ|          2|           32|         42|   N|                N|0.7619047619047619|\n",
            "|R30PGWX4HN1CFG|          1|           85|         95|   N|                Y|0.8947368421052632|\n",
            "|R2XASGYIENUHQO|          5|           28|         32|   N|                Y|             0.875|\n",
            "|R34UQPQCTSKQK9|          5|           23|         26|   N|                Y|0.8846153846153846|\n",
            "|R2M6WNM2OZZHKS|          1|           20|         22|   N|                N|0.9090909090909091|\n",
            "| RO6JNMUJDE1LP|          5|           37|         50|   N|                N|              0.74|\n",
            "|R1WNL4OIMSKDBR|          5|           35|         36|   N|                Y|0.9722222222222222|\n",
            "| RDGWZ3U8LQZE6|          2|           48|         54|   N|                Y|0.8888888888888888|\n",
            "|R3HFIKVOUDHT4I|          3|           64|         67|   N|                N|0.9552238805970149|\n",
            "| R22M0N2OZSICN|          5|           21|         23|   N|                Y|0.9130434782608695|\n",
            "|R1E43139TRHB5T|          5|           22|         22|   N|                Y|               1.0|\n",
            "|R1L40ST6C2UJHK|          5|          262|        272|   N|                Y|0.9632352941176471|\n",
            "|R1XISUX6DDSXKZ|          5|           37|         41|   N|                Y|0.9024390243902439|\n",
            "|R35MWO8UIXOA37|          1|           20|         22|   N|                Y|0.9090909090909091|\n",
            "|R1RZ0G02ASP7SF|          2|           35|         43|   N|                Y| 0.813953488372093|\n",
            "|R10HZ77HAWVJH6|          5|           19|         22|   N|                Y|0.8636363636363636|\n",
            "|R1PI04EDGLLCXV|          5|           25|         28|   N|                Y|0.8928571428571429|\n",
            "+--------------+-----------+-------------+-----------+----+-----------------+------------------+\n",
            "only showing top 20 rows\n",
            "\n"
          ]
        }
      ]
    },
    {
      "cell_type": "code",
      "source": [
        "# 3. Filter DataFrame for reviews under Vine program (paid)\n",
        "paid_reviews_df = high_ratings_percentage_df.filter(\"vine == 'Y' \")\n",
        "paid_reviews_df.show()"
      ],
      "metadata": {
        "colab": {
          "base_uri": "https://localhost:8080/"
        },
        "id": "3rwlczXAmYv_",
        "outputId": "40632fd6-7577-484f-f883-ef662c857cde"
      },
      "execution_count": 28,
      "outputs": [
        {
          "output_type": "stream",
          "name": "stdout",
          "text": [
            "+--------------+-----------+-------------+-----------+----+-----------------+------------------+\n",
            "|     review_id|star_rating|helpful_votes|total_votes|vine|verified_purchase|ratings_percentage|\n",
            "+--------------+-----------+-------------+-----------+----+-----------------+------------------+\n",
            "|R3MKO875WGIEBJ|          5|           34|         37|   Y|                N| 0.918918918918919|\n",
            "|R3OPNTK61FQ7MP|          5|           32|         37|   Y|                N|0.8648648648648649|\n",
            "| RMDRU8I773X5U|          4|           22|         25|   Y|                N|              0.88|\n",
            "| RR83RGWFEFZCL|          3|           61|         64|   Y|                N|          0.953125|\n",
            "|R2TMZ7GV8SPIRV|          4|           23|         23|   Y|                N|               1.0|\n",
            "| RX88JLUIFA4Q2|          4|           84|         87|   Y|                Y|0.9655172413793104|\n",
            "| RV3AHTDRHDH7R|          5|          253|        258|   Y|                N|0.9806201550387597|\n",
            "|R13EGJI8C8YJ4Y|          5|           19|         20|   Y|                N|              0.95|\n",
            "| R9SNSQTK4TJOG|          2|           11|         20|   Y|                N|              0.55|\n",
            "|R1A76AK493C8P8|          5|           83|         90|   Y|                N|0.9222222222222223|\n",
            "|R3LOTAAVOZ9D1L|          3|           19|         26|   Y|                N|0.7307692307692307|\n",
            "|R1BRN47DX8UXA7|          5|          154|        159|   Y|                N|0.9685534591194969|\n",
            "|R13CEXESMDKT3D|          3|           33|         36|   Y|                N|0.9166666666666666|\n",
            "|R1OM89J7BP8MUZ|          1|           23|         29|   Y|                N|0.7931034482758621|\n",
            "| RZP9LBF95AEHO|          3|           56|         58|   Y|                N|0.9655172413793104|\n",
            "|R3V9P61EYXDNRV|          5|           51|         54|   Y|                N|0.9444444444444444|\n",
            "|R2BDT05RK7TOJ9|          5|           21|         22|   Y|                N|0.9545454545454546|\n",
            "|R2PFVGR88KV91R|          2|           16|         23|   Y|                N|0.6956521739130435|\n",
            "|R3BV8N52HPNJJM|          4|           18|         20|   Y|                N|               0.9|\n",
            "|R2GOJRL2PW4JNM|          4|           24|         30|   Y|                N|               0.8|\n",
            "+--------------+-----------+-------------+-----------+----+-----------------+------------------+\n",
            "only showing top 20 rows\n",
            "\n"
          ]
        }
      ]
    },
    {
      "cell_type": "code",
      "source": [
        "# 4. Filter DataFrame for reviews not in Vine program (unpaid)\n",
        "unpaid_reviews_df = high_ratings_percentage_df.filter(\"vine == 'N' \")\n",
        "unpaid_reviews_df.show()"
      ],
      "metadata": {
        "colab": {
          "base_uri": "https://localhost:8080/"
        },
        "id": "bfEG9DjEttcN",
        "outputId": "d6039045-79d0-4f48-95ed-9a3a37c4e916"
      },
      "execution_count": 29,
      "outputs": [
        {
          "output_type": "stream",
          "name": "stdout",
          "text": [
            "+--------------+-----------+-------------+-----------+----+-----------------+------------------+\n",
            "|     review_id|star_rating|helpful_votes|total_votes|vine|verified_purchase|ratings_percentage|\n",
            "+--------------+-----------+-------------+-----------+----+-----------------+------------------+\n",
            "|R1OAZUG90XPU2U|          5|          250|        274|   N|                Y|0.9124087591240876|\n",
            "|R23VPTUJ8I8NR5|          1|           28|         30|   N|                Y|0.9333333333333333|\n",
            "| R6SRJFJ5YH4UM|          5|           23|         26|   N|                Y|0.8846153846153846|\n",
            "|R3DOS07BIMP4DJ|          2|           32|         42|   N|                N|0.7619047619047619|\n",
            "|R30PGWX4HN1CFG|          1|           85|         95|   N|                Y|0.8947368421052632|\n",
            "|R2XASGYIENUHQO|          5|           28|         32|   N|                Y|             0.875|\n",
            "|R34UQPQCTSKQK9|          5|           23|         26|   N|                Y|0.8846153846153846|\n",
            "|R2M6WNM2OZZHKS|          1|           20|         22|   N|                N|0.9090909090909091|\n",
            "| RO6JNMUJDE1LP|          5|           37|         50|   N|                N|              0.74|\n",
            "|R1WNL4OIMSKDBR|          5|           35|         36|   N|                Y|0.9722222222222222|\n",
            "| RDGWZ3U8LQZE6|          2|           48|         54|   N|                Y|0.8888888888888888|\n",
            "|R3HFIKVOUDHT4I|          3|           64|         67|   N|                N|0.9552238805970149|\n",
            "| R22M0N2OZSICN|          5|           21|         23|   N|                Y|0.9130434782608695|\n",
            "|R1E43139TRHB5T|          5|           22|         22|   N|                Y|               1.0|\n",
            "|R1L40ST6C2UJHK|          5|          262|        272|   N|                Y|0.9632352941176471|\n",
            "|R1XISUX6DDSXKZ|          5|           37|         41|   N|                Y|0.9024390243902439|\n",
            "|R35MWO8UIXOA37|          1|           20|         22|   N|                Y|0.9090909090909091|\n",
            "|R1RZ0G02ASP7SF|          2|           35|         43|   N|                Y| 0.813953488372093|\n",
            "|R10HZ77HAWVJH6|          5|           19|         22|   N|                Y|0.8636363636363636|\n",
            "|R1PI04EDGLLCXV|          5|           25|         28|   N|                Y|0.8928571428571429|\n",
            "+--------------+-----------+-------------+-----------+----+-----------------+------------------+\n",
            "only showing top 20 rows\n",
            "\n"
          ]
        }
      ]
    },
    {
      "cell_type": "code",
      "source": [
        "# 5. Determine the total number of reviews, the number of 5-star reviews, and the percentage of 5-star reviews for the two types of review \n",
        "#(paid vs unpaid).\n",
        "total_reviews = high_ratings_percentage_df.count()\n",
        "total_reviews"
      ],
      "metadata": {
        "colab": {
          "base_uri": "https://localhost:8080/"
        },
        "id": "eR_R_IKwttpA",
        "outputId": "0016f60f-1af1-4e9f-fafd-07cb50cfb639"
      },
      "execution_count": 57,
      "outputs": [
        {
          "output_type": "execute_result",
          "data": {
            "text/plain": [
              "28235"
            ]
          },
          "metadata": {},
          "execution_count": 57
        }
      ]
    },
    {
      "cell_type": "code",
      "source": [
        "total_five_star_reviews_df = high_ratings_percentage_df.filter(\"star_rating == 5\")\n",
        "total_five_star_reviews = total_five_star_reviews_df.count()\n",
        "total_five_star_reviews"
      ],
      "metadata": {
        "colab": {
          "base_uri": "https://localhost:8080/"
        },
        "id": "OmqoOrgP0FZd",
        "outputId": "11dcd8a2-6d35-47de-dcf3-606cbae00fc7"
      },
      "execution_count": 58,
      "outputs": [
        {
          "output_type": "execute_result",
          "data": {
            "text/plain": [
              "15692"
            ]
          },
          "metadata": {},
          "execution_count": 58
        }
      ]
    },
    {
      "cell_type": "code",
      "source": [
        "paid_five_star_reviews_df = paid_reviews_df.filter(\"star_rating ==5\")\n",
        "paid_five_star_reviews = paid_five_star_reviews_df.count()\n",
        "paid_five_star_reviews"
      ],
      "metadata": {
        "colab": {
          "base_uri": "https://localhost:8080/"
        },
        "id": "Ize5qPYD0Fh6",
        "outputId": "24baca29-b4bf-4b34-9518-c0d4f75a7fe0"
      },
      "execution_count": 59,
      "outputs": [
        {
          "output_type": "execute_result",
          "data": {
            "text/plain": [
              "20"
            ]
          },
          "metadata": {},
          "execution_count": 59
        }
      ]
    },
    {
      "cell_type": "code",
      "source": [
        "unpaid_five_star_reviews_df = unpaid_reviews_df.filter(\"star_rating ==5\")\n",
        "unpaid_five_star_reviews = unpaid_five_star_reviews_df.count()\n",
        "unpaid_five_star_reviews"
      ],
      "metadata": {
        "colab": {
          "base_uri": "https://localhost:8080/"
        },
        "id": "xYOhr_0q11we",
        "outputId": "22e3244d-a231-417e-cf67-13c4db7137b2"
      },
      "execution_count": 60,
      "outputs": [
        {
          "output_type": "execute_result",
          "data": {
            "text/plain": [
              "15672"
            ]
          },
          "metadata": {},
          "execution_count": 60
        }
      ]
    },
    {
      "cell_type": "code",
      "source": [
        "paid_five_star_percentage = paid_five_star_reviews/total_five_star_reviews*100\n",
        "paid_five_star_percentage"
      ],
      "metadata": {
        "colab": {
          "base_uri": "https://localhost:8080/"
        },
        "id": "iSSZduHS115c",
        "outputId": "13bc1ca3-9c1e-4eb0-d80a-e1bd4b50c1a5"
      },
      "execution_count": 48,
      "outputs": [
        {
          "output_type": "execute_result",
          "data": {
            "text/plain": [
              "0.1274534794799898"
            ]
          },
          "metadata": {},
          "execution_count": 48
        }
      ]
    },
    {
      "cell_type": "code",
      "source": [
        "unpaid_five_star_percentage = unpaid_five_star_reviews/total_five_star_reviews*100\n",
        "unpaid_five_star_percentage"
      ],
      "metadata": {
        "colab": {
          "base_uri": "https://localhost:8080/"
        },
        "id": "CZsOJmKH3C41",
        "outputId": "d994d928-613d-42f7-b0bc-09564ee6d4e3"
      },
      "execution_count": 56,
      "outputs": [
        {
          "output_type": "execute_result",
          "data": {
            "text/plain": [
              "99.87254652052002"
            ]
          },
          "metadata": {},
          "execution_count": 56
        }
      ]
    },
    {
      "cell_type": "code",
      "source": [
        ""
      ],
      "metadata": {
        "id": "oAedSpQd59M0"
      },
      "execution_count": null,
      "outputs": []
    }
  ]
}